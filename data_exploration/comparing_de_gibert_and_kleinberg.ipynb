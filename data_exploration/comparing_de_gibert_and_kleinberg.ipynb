{
 "cells": [
  {
   "cell_type": "markdown",
   "metadata": {},
   "source": [
    "# Comparison and checking for overlap between De Gibert and Kleinberg"
   ]
  },
  {
   "cell_type": "code",
   "execution_count": 1,
   "metadata": {},
   "outputs": [],
   "source": [
    "import numpy as np\n",
    "import pandas as pd\n"
   ]
  },
  {
   "cell_type": "code",
   "execution_count": 8,
   "metadata": {},
   "outputs": [
    {
     "name": "stdout",
     "output_type": "stream",
     "text": [
      "Error reading .././data/de_gibert/all_files\\13491591_4.txt: 'charmap' codec can't decode byte 0x81 in position 23: character maps to <undefined>\n",
      "Error reading .././data/de_gibert/all_files\\13493456_1.txt: 'charmap' codec can't decode byte 0x81 in position 169: character maps to <undefined>\n",
      "Error reading .././data/de_gibert/all_files\\13500400_1.txt: 'charmap' codec can't decode byte 0x81 in position 67: character maps to <undefined>\n",
      "Error reading .././data/de_gibert/all_files\\13560796_1.txt: 'charmap' codec can't decode byte 0x81 in position 5: character maps to <undefined>\n",
      "Error reading .././data/de_gibert/all_files\\13572081_1.txt: 'charmap' codec can't decode byte 0x81 in position 3: character maps to <undefined>\n",
      "Error reading .././data/de_gibert/all_files\\13588794_3.txt: 'charmap' codec can't decode byte 0x81 in position 54: character maps to <undefined>\n",
      "Error reading .././data/de_gibert/all_files\\13595072_1.txt: 'charmap' codec can't decode byte 0x8d in position 75: character maps to <undefined>\n",
      "Error reading .././data/de_gibert/all_files\\13595072_5.txt: 'charmap' codec can't decode byte 0x8d in position 78: character maps to <undefined>\n",
      "Error reading .././data/de_gibert/all_files\\14061724_1.txt: 'charmap' codec can't decode byte 0x81 in position 181: character maps to <undefined>\n",
      "Error reading .././data/de_gibert/all_files\\14065492_1.txt: 'charmap' codec can't decode byte 0x90 in position 203: character maps to <undefined>\n",
      "Error reading .././data/de_gibert/all_files\\30422455_1.txt: 'charmap' codec can't decode byte 0x8d in position 94: character maps to <undefined>\n",
      "Error reading .././data/de_gibert/all_files\\30422455_2.txt: 'charmap' codec can't decode byte 0x8d in position 65: character maps to <undefined>\n",
      "Error reading .././data/de_gibert/all_files\\30443860_2.txt: 'charmap' codec can't decode byte 0x90 in position 20: character maps to <undefined>\n",
      "Error reading .././data/de_gibert/all_files\\30569404_3.txt: 'charmap' codec can't decode byte 0x8d in position 55: character maps to <undefined>\n",
      "Error reading .././data/de_gibert/all_files\\30586603_2.txt: 'charmap' codec can't decode byte 0x8d in position 235: character maps to <undefined>\n",
      "Error reading .././data/de_gibert/all_files\\30659540_3.txt: 'charmap' codec can't decode byte 0x8f in position 68: character maps to <undefined>\n",
      "Error reading .././data/de_gibert/all_files\\33500574_1.txt: 'charmap' codec can't decode byte 0x90 in position 1: character maps to <undefined>\n",
      "Error reading .././data/de_gibert/all_files\\33500574_2.txt: 'charmap' codec can't decode byte 0x90 in position 1: character maps to <undefined>\n"
     ]
    }
   ],
   "source": [
    "import os\n",
    "\n",
    "# specify the folder path\n",
    "folder_path = '.././data/de_gibert/all_files'\n",
    "\n",
    "# list all text files in the folder\n",
    "text_files = [f for f in os.listdir(folder_path) if f.endswith('.txt')]\n",
    "\n",
    "# read each file's content and store it in a list\n",
    "data = []\n",
    "for file in text_files:\n",
    "    file_path = os.path.join(folder_path, file)\n",
    "    try:\n",
    "        with open(file_path, 'r') as f:\n",
    "            content = f.read()\n",
    "            file_id = file.replace('.txt', '')\n",
    "            data.append({'ID': file_id, 'Content': content})\n",
    "    except Exception as e:\n",
    "        print(f\"Error reading {file_path}: {e}\")\n",
    "\n",
    "# create a DataFrame where each file's content is one row\n",
    "df_de_gibert = pd.DataFrame(data)"
   ]
  },
  {
   "cell_type": "code",
   "execution_count": null,
   "metadata": {},
   "outputs": [
    {
     "name": "stdout",
     "output_type": "stream",
     "text": [
      "       file_id                                            Content  user_id_x  \\\n",
      "0   12834217_1  As of March 13th , 2014 , the booklet had been...     572066   \n",
      "1  12834217_10  Thank you in advance. : ) Download the youtube...     572066   \n",
      "2   12834217_2  In order to help increase the booklets downloa...     572066   \n",
      "3   12834217_3  ( Simply copy and paste the following text int...     572066   \n",
      "4   12834217_4  Click below for a FREE download of a colorfull...     572066   \n",
      "\n",
      "   subforum_id_x  num_contexts_x label_x  user_id_y  subforum_id_y  \\\n",
      "0           1346               0  noHate     572066           1346   \n",
      "1           1346               0  noHate     572066           1346   \n",
      "2           1346               0  noHate     572066           1346   \n",
      "3           1346               0  noHate     572066           1346   \n",
      "4           1346               0    hate     572066           1346   \n",
      "\n",
      "   num_contexts_y label_y  \n",
      "0               0  noHate  \n",
      "1               0  noHate  \n",
      "2               0  noHate  \n",
      "3               0  noHate  \n",
      "4               0    hate  \n"
     ]
    }
   ],
   "source": [
    "annotations = pd.read_csv('.././data/de_gibert/annotations_metadata.csv')\n",
    "\n",
    "df_de_gibert.rename(columns={\"ID\": \"file_id\"}, inplace=True)\n",
    "\n",
    "df_de_gibert = df_de_gibert.merge(annotations, on='file_id', how='left')\n",
    "\n",
    "print(df_de_gibert.head())\n",
    "\n",
    "# de_gibert data is assembled\n"
   ]
  },
  {
   "cell_type": "code",
   "execution_count": null,
   "metadata": {},
   "outputs": [],
   "source": [
    "df_kleinberg = pd.read_csv('.././data/kleinberg/stormfront_data_full.csv')\n"
   ]
  },
  {
   "cell_type": "code",
   "execution_count": 17,
   "metadata": {},
   "outputs": [
    {
     "ename": "MemoryError",
     "evalue": "Unable to allocate 93.1 MiB for an array with shape (6, 2033706) and data type object",
     "output_type": "error",
     "traceback": [
      "\u001b[1;31m---------------------------------------------------------------------------\u001b[0m",
      "\u001b[1;31mMemoryError\u001b[0m                               Traceback (most recent call last)",
      "Input \u001b[1;32mIn [17]\u001b[0m, in \u001b[0;36m<cell line: 8>\u001b[1;34m()\u001b[0m\n\u001b[0;32m      6\u001b[0m overlap_results \u001b[38;5;241m=\u001b[39m []\n\u001b[0;32m      8\u001b[0m \u001b[38;5;28;01mfor\u001b[39;00m i, row_de_gibert \u001b[38;5;129;01min\u001b[39;00m df_de_gibert\u001b[38;5;241m.\u001b[39miterrows():\n\u001b[1;32m----> 9\u001b[0m     \u001b[38;5;28;01mfor\u001b[39;00m j, row_kleinberg \u001b[38;5;129;01min\u001b[39;00m df_kleinberg\u001b[38;5;241m.\u001b[39miterrows():\n\u001b[0;32m     10\u001b[0m         overlap \u001b[38;5;241m=\u001b[39m row_de_gibert[\u001b[38;5;124m'\u001b[39m\u001b[38;5;124mContent_set\u001b[39m\u001b[38;5;124m'\u001b[39m]\u001b[38;5;241m.\u001b[39mintersection(row_kleinberg[\u001b[38;5;124m'\u001b[39m\u001b[38;5;124mstormfront_self_content_set\u001b[39m\u001b[38;5;124m'\u001b[39m])\n\u001b[0;32m     11\u001b[0m         \u001b[38;5;28;01mif\u001b[39;00m overlap:\n",
      "File \u001b[1;32mc:\\Python310\\lib\\site-packages\\pandas\\core\\frame.py:1409\u001b[0m, in \u001b[0;36mDataFrame.iterrows\u001b[1;34m(self)\u001b[0m\n\u001b[0;32m   1407\u001b[0m columns \u001b[38;5;241m=\u001b[39m \u001b[38;5;28mself\u001b[39m\u001b[38;5;241m.\u001b[39mcolumns\n\u001b[0;32m   1408\u001b[0m klass \u001b[38;5;241m=\u001b[39m \u001b[38;5;28mself\u001b[39m\u001b[38;5;241m.\u001b[39m_constructor_sliced\n\u001b[1;32m-> 1409\u001b[0m \u001b[38;5;28;01mfor\u001b[39;00m k, v \u001b[38;5;129;01min\u001b[39;00m \u001b[38;5;28mzip\u001b[39m(\u001b[38;5;28mself\u001b[39m\u001b[38;5;241m.\u001b[39mindex, \u001b[38;5;28;43mself\u001b[39;49m\u001b[38;5;241;43m.\u001b[39;49m\u001b[43mvalues\u001b[49m):\n\u001b[0;32m   1410\u001b[0m     s \u001b[38;5;241m=\u001b[39m klass(v, index\u001b[38;5;241m=\u001b[39mcolumns, name\u001b[38;5;241m=\u001b[39mk)\u001b[38;5;241m.\u001b[39m__finalize__(\u001b[38;5;28mself\u001b[39m)\n\u001b[0;32m   1411\u001b[0m     \u001b[38;5;28;01myield\u001b[39;00m k, s\n",
      "File \u001b[1;32mc:\\Python310\\lib\\site-packages\\pandas\\core\\frame.py:11761\u001b[0m, in \u001b[0;36mDataFrame.values\u001b[1;34m(self)\u001b[0m\n\u001b[0;32m  11688\u001b[0m \u001b[38;5;124;03m\"\"\"\u001b[39;00m\n\u001b[0;32m  11689\u001b[0m \u001b[38;5;124;03mReturn a Numpy representation of the DataFrame.\u001b[39;00m\n\u001b[0;32m  11690\u001b[0m \n\u001b[1;32m   (...)\u001b[0m\n\u001b[0;32m  11758\u001b[0m \u001b[38;5;124;03m       ['monkey', nan, None]], dtype=object)\u001b[39;00m\n\u001b[0;32m  11759\u001b[0m \u001b[38;5;124;03m\"\"\"\u001b[39;00m\n\u001b[0;32m  11760\u001b[0m \u001b[38;5;28mself\u001b[39m\u001b[38;5;241m.\u001b[39m_consolidate_inplace()\n\u001b[1;32m> 11761\u001b[0m \u001b[38;5;28;01mreturn\u001b[39;00m \u001b[38;5;28;43mself\u001b[39;49m\u001b[38;5;241;43m.\u001b[39;49m\u001b[43m_mgr\u001b[49m\u001b[38;5;241;43m.\u001b[39;49m\u001b[43mas_array\u001b[49m\u001b[43m(\u001b[49m\u001b[43m)\u001b[49m\n",
      "File \u001b[1;32mc:\\Python310\\lib\\site-packages\\pandas\\core\\internals\\managers.py:1747\u001b[0m, in \u001b[0;36mBlockManager.as_array\u001b[1;34m(self, dtype, copy, na_value)\u001b[0m\n\u001b[0;32m   1745\u001b[0m             arr \u001b[38;5;241m=\u001b[39m arr\u001b[38;5;241m.\u001b[39mastype(dtype, copy\u001b[38;5;241m=\u001b[39m\u001b[38;5;28;01mFalse\u001b[39;00m)\n\u001b[0;32m   1746\u001b[0m \u001b[38;5;28;01melse\u001b[39;00m:\n\u001b[1;32m-> 1747\u001b[0m     arr \u001b[38;5;241m=\u001b[39m \u001b[38;5;28;43mself\u001b[39;49m\u001b[38;5;241;43m.\u001b[39;49m\u001b[43m_interleave\u001b[49m\u001b[43m(\u001b[49m\u001b[43mdtype\u001b[49m\u001b[38;5;241;43m=\u001b[39;49m\u001b[43mdtype\u001b[49m\u001b[43m,\u001b[49m\u001b[43m \u001b[49m\u001b[43mna_value\u001b[49m\u001b[38;5;241;43m=\u001b[39;49m\u001b[43mna_value\u001b[49m\u001b[43m)\u001b[49m\n\u001b[0;32m   1748\u001b[0m     \u001b[38;5;66;03m# The underlying data was copied within _interleave\u001b[39;00m\n\u001b[0;32m   1749\u001b[0m     copy \u001b[38;5;241m=\u001b[39m \u001b[38;5;28;01mFalse\u001b[39;00m\n",
      "File \u001b[1;32mc:\\Python310\\lib\\site-packages\\pandas\\core\\internals\\managers.py:1794\u001b[0m, in \u001b[0;36mBlockManager._interleave\u001b[1;34m(self, dtype, na_value)\u001b[0m\n\u001b[0;32m   1792\u001b[0m \u001b[38;5;28;01mfor\u001b[39;00m blk \u001b[38;5;129;01min\u001b[39;00m \u001b[38;5;28mself\u001b[39m\u001b[38;5;241m.\u001b[39mblocks:\n\u001b[0;32m   1793\u001b[0m     rl \u001b[38;5;241m=\u001b[39m blk\u001b[38;5;241m.\u001b[39mmgr_locs\n\u001b[1;32m-> 1794\u001b[0m     arr \u001b[38;5;241m=\u001b[39m \u001b[43mblk\u001b[49m\u001b[38;5;241;43m.\u001b[39;49m\u001b[43mget_values\u001b[49m\u001b[43m(\u001b[49m\u001b[43mdtype\u001b[49m\u001b[43m)\u001b[49m\n\u001b[0;32m   1795\u001b[0m     result[rl\u001b[38;5;241m.\u001b[39mindexer] \u001b[38;5;241m=\u001b[39m arr\n\u001b[0;32m   1796\u001b[0m     itemmask[rl\u001b[38;5;241m.\u001b[39mindexer] \u001b[38;5;241m=\u001b[39m \u001b[38;5;241m1\u001b[39m\n",
      "File \u001b[1;32mc:\\Python310\\lib\\site-packages\\pandas\\core\\internals\\blocks.py:1911\u001b[0m, in \u001b[0;36mNumpyBlock.get_values\u001b[1;34m(self, dtype)\u001b[0m\n\u001b[0;32m   1909\u001b[0m \u001b[38;5;28;01mdef\u001b[39;00m \u001b[38;5;21mget_values\u001b[39m(\u001b[38;5;28mself\u001b[39m, dtype: DtypeObj \u001b[38;5;241m|\u001b[39m \u001b[38;5;28;01mNone\u001b[39;00m \u001b[38;5;241m=\u001b[39m \u001b[38;5;28;01mNone\u001b[39;00m) \u001b[38;5;241m-\u001b[39m\u001b[38;5;241m>\u001b[39m np\u001b[38;5;241m.\u001b[39mndarray:\n\u001b[0;32m   1910\u001b[0m     \u001b[38;5;28;01mif\u001b[39;00m dtype \u001b[38;5;241m==\u001b[39m _dtype_obj:\n\u001b[1;32m-> 1911\u001b[0m         \u001b[38;5;28;01mreturn\u001b[39;00m \u001b[38;5;28;43mself\u001b[39;49m\u001b[38;5;241;43m.\u001b[39;49m\u001b[43mvalues\u001b[49m\u001b[38;5;241;43m.\u001b[39;49m\u001b[43mastype\u001b[49m\u001b[43m(\u001b[49m\u001b[43m_dtype_obj\u001b[49m\u001b[43m)\u001b[49m\n\u001b[0;32m   1912\u001b[0m     \u001b[38;5;28;01mreturn\u001b[39;00m \u001b[38;5;28mself\u001b[39m\u001b[38;5;241m.\u001b[39mvalues\n",
      "\u001b[1;31mMemoryError\u001b[0m: Unable to allocate 93.1 MiB for an array with shape (6, 2033706) and data type object"
     ]
    }
   ],
   "source": [
    "# Convert the content columns to sets of words for comparison\n",
    "df_de_gibert['Content_set'] = df_de_gibert['Content'].apply(lambda x: set(x.split()))\n",
    "df_kleinberg['stormfront_self_content_set'] = df_kleinberg['stormfront_self_content'].apply(lambda x: set(x.split()))\n",
    "\n",
    "# Find overlapping content\n",
    "overlap_results = []\n",
    "\n",
    "for i, row_de_gibert in df_de_gibert.iterrows():\n",
    "    for j, row_kleinberg in df_kleinberg.iterrows():\n",
    "        overlap = row_de_gibert['Content_set'].intersection(row_kleinberg['stormfront_self_content_set'])\n",
    "        if overlap:\n",
    "            overlap_results.append({\n",
    "                'de_gibert_index': i,\n",
    "                'kleinberg_index': j,\n",
    "                'overlap': overlap\n",
    "            })\n",
    "\n",
    "# Convert the results to a DataFrame for better visualization\n",
    "df_overlap = pd.DataFrame(overlap_results)\n",
    "print(df_overlap)"
   ]
  }
 ],
 "metadata": {
  "kernelspec": {
   "display_name": "Python 3",
   "language": "python",
   "name": "python3"
  },
  "language_info": {
   "codemirror_mode": {
    "name": "ipython",
    "version": 3
   },
   "file_extension": ".py",
   "mimetype": "text/x-python",
   "name": "python",
   "nbconvert_exporter": "python",
   "pygments_lexer": "ipython3",
   "version": "3.10.2"
  }
 },
 "nbformat": 4,
 "nbformat_minor": 2
}
