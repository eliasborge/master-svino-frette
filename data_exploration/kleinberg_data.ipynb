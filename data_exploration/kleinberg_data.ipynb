{
 "cells": [
  {
   "cell_type": "markdown",
   "metadata": {},
   "source": [
    "# Stormfront Dataset from Kleinberg et al.\n"
   ]
  },
  {
   "cell_type": "code",
   "execution_count": 1,
   "metadata": {},
   "outputs": [],
   "source": [
    "import pandas as pd\n",
    "import numpy as np"
   ]
  },
  {
   "cell_type": "code",
   "execution_count": null,
   "metadata": {},
   "outputs": [],
   "source": [
    "df = pd.read_csv('.././data/stormfront_data_full.csv')\n"
   ]
  },
  {
   "cell_type": "code",
   "execution_count": 23,
   "metadata": {},
   "outputs": [
    {
     "name": "stdout",
     "output_type": "stream",
     "text": [
      "Number of rows:  2033706\n",
      "Columns:\n",
      "    Unnamed: 0\n",
      "    stormfront_self_content\n",
      "    stormfront_lang_id\n",
      "    stormfront_publication_date\n",
      "    stormfront_topic\n",
      "    stormfront_docid\n",
      "    stormfront_category\n",
      "    stormfront_user\n",
      "\n",
      "\n",
      "Number of unique users:  55872\n",
      "Number of unique topics:  119466\n",
      "\n",
      "\n",
      "Number of missing values in each column:\n",
      "Unnamed: 0                      0\n",
      "stormfront_self_content         0\n",
      "stormfront_lang_id              0\n",
      "stormfront_publication_date     0\n",
      "stormfront_topic               35\n",
      "stormfront_docid                0\n",
      "stormfront_category             0\n",
      "stormfront_user                 0\n",
      "dtype: int64\n",
      "\n",
      "\n",
      "Average length of content:  623.3840894406566\n"
     ]
    }
   ],
   "source": [
    "cols = df.columns\n",
    "print(\"Number of rows: \", len(df))\n",
    "print(\"Columns:\")\n",
    "for col in cols:\n",
    "    print(\"    \"+col) \n",
    "print(\"\\n\")\n",
    "print(\"Number of unique users: \", len(df['stormfront_user'].unique()))\n",
    "print(\"Number of unique topics: \", len(df['stormfront_topic'].unique()))\n",
    "print(\"\\n\")\n",
    "print(\"Number of missing values in each column:\")\n",
    "print(df.isnull().sum())\n",
    "print(\"\\n\")\n",
    "print(\"Average length of content: \", df['stormfront_self_content'].str.len().mean())"
   ]
  }
 ],
 "metadata": {
  "kernelspec": {
   "display_name": "Python 3",
   "language": "python",
   "name": "python3"
  },
  "language_info": {
   "codemirror_mode": {
    "name": "ipython",
    "version": 3
   },
   "file_extension": ".py",
   "mimetype": "text/x-python",
   "name": "python",
   "nbconvert_exporter": "python",
   "pygments_lexer": "ipython3",
   "version": "3.10.2"
  }
 },
 "nbformat": 4,
 "nbformat_minor": 2
}
