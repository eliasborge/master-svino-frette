{
 "cells": [
  {
   "cell_type": "markdown",
   "metadata": {},
   "source": [
    "# Data from De Gibert et al. - Hate Speech Dataset "
   ]
  },
  {
   "cell_type": "code",
   "execution_count": 1,
   "metadata": {},
   "outputs": [],
   "source": [
    "import pandas as pd\n",
    "import numpy as np\n"
   ]
  },
  {
   "cell_type": "code",
   "execution_count": 8,
   "metadata": {},
   "outputs": [
    {
     "name": "stdout",
     "output_type": "stream",
     "text": [
      "Error reading .././data/de_gibert/sampled_train\\13500400_1.txt: 'charmap' codec can't decode byte 0x81 in position 67: character maps to <undefined>\n"
     ]
    }
   ],
   "source": [
    "import os\n",
    "\n",
    "# specify the folder path\n",
    "folder_path = '.././data/de_gibert/sampled_train'\n",
    "\n",
    "# list all text files in the folder\n",
    "text_files = [f for f in os.listdir(folder_path) if f.endswith('.txt')]\n",
    "\n",
    "# read each file's content and store it in a list\n",
    "data = []\n",
    "for file in text_files:\n",
    "    file_path = os.path.join(folder_path, file)\n",
    "    try:\n",
    "        with open(file_path, 'r') as f:\n",
    "            content = f.read()\n",
    "            data.append(content)\n",
    "    except Exception as e:\n",
    "        print(f\"Error reading {file_path}: {e}\")\n",
    "\n",
    "# create a DataFrame where each file's content is one row\n",
    "df = pd.DataFrame(data, columns=['Content'])\n"
   ]
  },
  {
   "cell_type": "code",
   "execution_count": 9,
   "metadata": {},
   "outputs": [
    {
     "name": "stdout",
     "output_type": "stream",
     "text": [
      "                                                  Content\n",
      "count                                                1913\n",
      "unique                                               1907\n",
      "top     Hell I 'd rather clean a dozen tiolets a day t...\n",
      "freq                                                    3\n",
      "                                             Content\n",
      "0  In order to help increase the booklets downloa...\n",
      "1  Click below for a FREE download of a colorfull...\n",
      "2  Click below for a FREE download of a colorfull...\n",
      "3               Booklet updated on Dec. 9th , 2013 .\n",
      "4  Thank you in advance. : ) Download the youtube...\n"
     ]
    },
    {
     "data": {
      "text/plain": [
       "<AxesSubplot:title={'center':'Distribution of Content Length'}, ylabel='Frequency'>"
      ]
     },
     "execution_count": 9,
     "metadata": {},
     "output_type": "execute_result"
    },
    {
     "data": {
      "image/png": "[encoded data removed]",
      "text/plain": [
       "<Figure size 640x480 with 1 Axes>"
      ]
     },
     "metadata": {},
     "output_type": "display_data"
    }
   ],
   "source": [
    "# Print basic statistics\n",
    "print(df.describe())\n",
    "\n",
    "# Print the first few rows of the dataframe\n",
    "print(df.head())\n",
    "\n",
    "# Plot the length of content in each row\n",
    "df['Content_Length'] = df['Content'].apply(len)\n",
    "df['Content_Length'].plot(kind='hist', bins=50, title='Distribution of Content Length')"
   ]
  }
 ],
 "metadata": {
  "kernelspec": {
   "display_name": "Python 3",
   "language": "python",
   "name": "python3"
  },
  "language_info": {
   "codemirror_mode": {
    "name": "ipython",
    "version": 3
   },
   "file_extension": ".py",
   "mimetype": "text/x-python",
   "name": "python",
   "nbconvert_exporter": "python",
   "pygments_lexer": "ipython3",
   "version": "3.10.2"
  }
 },
 "nbformat": 4,
 "nbformat_minor": 2
}
